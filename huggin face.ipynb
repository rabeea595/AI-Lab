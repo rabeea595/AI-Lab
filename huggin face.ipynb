{
 "cells": [
  {
   "cell_type": "code",
   "execution_count": 11,
   "id": "9285b548-2931-4ea5-a25c-c58e81768260",
   "metadata": {},
   "outputs": [
    {
     "name": "stderr",
     "output_type": "stream",
     "text": [
      "No model was supplied, defaulted to dandelin/vilt-b32-finetuned-vqa and revision d0a1f6a (https://huggingface.co/dandelin/vilt-b32-finetuned-vqa).\n",
      "Using a pipeline without specifying a model name and revision in production is not recommended.\n",
      "Device set to use cpu\n"
     ]
    },
    {
     "data": {
      "text/plain": [
       "[{'score': 0.9550347328186035, 'answer': 'car'},\n",
       " {'score': 0.021299446001648903, 'answer': 'cars'},\n",
       " {'score': 0.016330573707818985, 'answer': 'bmw'},\n",
       " {'score': 0.014527254737913609, 'answer': 'sedan'},\n",
       " {'score': 0.013608342036604881, 'answer': 'toyota'}]"
      ]
     },
     "execution_count": 11,
     "metadata": {},
     "output_type": "execute_result"
    }
   ],
   "source": [
    "from PIL import Image\n",
    "from transformers import pipeline\n",
    "pipe = pipeline(\"visual-question-answering\")\n",
    "image = Image.open('car.JPEG')\n",
    "question = \"what is in the image?\"\n",
    "pipe(image, question,top_k=5)\n",
    "\n"
   ]
  },
  {
   "cell_type": "code",
   "execution_count": null,
   "id": "2a905271-c730-44b4-b65a-161e38401cc7",
   "metadata": {},
   "outputs": [],
   "source": []
  },
  {
   "cell_type": "code",
   "execution_count": null,
   "id": "58935edd-1158-4431-aa8d-56b2b9a300be",
   "metadata": {},
   "outputs": [],
   "source": [
    "from PIL import Image\n",
    "from transformers import pipeline\n",
    "vqa_pipe = pipeline(\"visual-question-answering\",model=\"dandelin/vilt-b32-finetuned-vqa\")\n",
    "image = Image.open('car.JPEG')\n",
    "question = \"What is in the image?\"\n",
    "vqa_result = vqa_pipe(image=image, question=question, top_k=5)\n",
    "answer = vqa_result[0]['answer']\n",
    "print(\"Top Answer:\", answer)\n",
    "text_generator = pipeline(\"text-generator\",model=\"gpt2\")\n",
    "text_generator=pipeline(\"text-generator\",model=\"gpt2\")\n",
    "story_prompt = f\"a car on a road with blue color and black wheels. This image show\"\n",
    "generated_story = text_generatoe(story_prompt,max_length=150,num_return_sequences=1)\n",
    "print(generated_story[0]['generated_Text'])"
   ]
  },
  {
   "cell_type": "code",
   "execution_count": 2,
   "id": "afb96c58-f56b-465f-8b24-0009f5fb72c1",
   "metadata": {},
   "outputs": [
    {
     "name": "stderr",
     "output_type": "stream",
     "text": [
      "Device set to use cpu\n"
     ]
    },
    {
     "name": "stdout",
     "output_type": "stream",
     "text": [
      "Top Answer: car\n"
     ]
    },
    {
     "name": "stderr",
     "output_type": "stream",
     "text": [
      "Device set to use cpu\n",
      "Truncation was not explicitly activated but `max_length` is provided a specific value, please use `truncation=True` to explicitly truncate examples to max length. Defaulting to 'longest_first' truncation strategy. If you encode pairs of sequences (GLUE-style) with the tokenizer you can select this strategy more precisely by providing a specific strategy to `truncation`.\n",
      "Setting `pad_token_id` to `eos_token_id`:50256 for open-end generation.\n"
     ]
    },
    {
     "name": "stdout",
     "output_type": "stream",
     "text": [
      "Generated Story:\n",
      "A picture shows car. This image shows the interior and side view.\n",
      "\n",
      "Car is one of the most important parts of a car in the car. When a car has the car seat, it means it is the only way to be able to use power, steering, power steering, handling controls, a good attitude and to keep hands, feet, hands, everything and the like.\n",
      "\n",
      "The car seat of a car, as it appears on the picture, is quite large. It provides a good level of flexibility. It gives a good level of freedom of movement of the hands and feet. It also contains a light protection. It is usually very convenient to have this light protection along with heavy lifting equipment because it doesn't come with it\n"
     ]
    }
   ],
   "source": [
    "from PIL import Image\n",
    "from transformers import pipeline\n",
    "vqa_pipe = pipeline(\"visual-question-answering\",model=\"dandelin/vilt-b32-finetuned-vqa\")\n",
    "image = Image.open('car.JPEG')\n",
    "question = \"What is in the image?\"\n",
    "vqa_result = vqa_pipe(image=image, question=question, top_k=5)\n",
    "answer = vqa_result[0]['answer']\n",
    "print(\"Top Answer:\", answer)\n",
    "text_generator = pipeline(\"text-generation\", model=\"gpt2\")\n",
    "story_prompt = f\"A picture shows {answer}. This image shows\"\n",
    "generated_story = text_generator(story_prompt, max_length=150, num_return_sequences=1)\n",
    "print(\"Generated Story:\")\n",
    "print(generated_story[0]['generated_text'])\n"
   ]
  },
  {
   "cell_type": "code",
   "execution_count": 4,
   "id": "6e0e641f-7ad0-4837-a8c2-0864da6bc21b",
   "metadata": {},
   "outputs": [
    {
     "name": "stderr",
     "output_type": "stream",
     "text": [
      "Device set to use cpu\n"
     ]
    },
    {
     "name": "stdout",
     "output_type": "stream",
     "text": [
      "Summary: a picture shows a small car in front of a man with a shotgun . the picture does not show the car but\n"
     ]
    }
   ],
   "source": [
    " \n",
    "from transformers import pipeline\n",
    "summarizer = pipeline(\"summarization\", model=\"t5-small\")\n",
    "text = (\n",
    "    '''\n",
    "A picture shows car. This image shows a small car in front of a man with a shotgun. The picture does not show the car but more of a truck behind it. The truck is still in the same position as the car.\n",
    "\n",
    "This picture is a clear illustration of the destruction of a car as it leaves the street. Notice that it takes the same cars place as the car as well.\n",
    "The picture show how the cars that were in the street, while left alone in that state, would immediately move through the streets as soon as the cars in front of them moved. Thus far there are few examples of that behavior yet we can have a closer look at the destruction caused by leaving the streets alone.\n",
    "\n",
    "The damage'''\n",
    ")\n",
    "summary = summarizer(text,max_length=30,min_length=10, do_sample = False)\n",
    "print(\"Summary:\", summary[0]['summary_text'])"
   ]
  },
  {
   "cell_type": "code",
   "execution_count": 7,
   "id": "a505540a-f9d4-4cf1-9967-f7dc3242c22b",
   "metadata": {},
   "outputs": [
    {
     "name": "stderr",
     "output_type": "stream",
     "text": [
      "Device set to use cpu\n"
     ]
    },
    {
     "name": "stdout",
     "output_type": "stream",
     "text": [
      "Summary: a picture shows a small car in front of a man with a shotgun . the picture does not show the car but\n"
     ]
    }
   ],
   "source": [
    "from transformers import pipeline\n",
    "\n",
    "# Load summarization pipeline\n",
    "summarizer = pipeline(\"summarization\", model=\"t5-small\")\n",
    "\n",
    "# Text to summarize (use triple quotes for multiline strings)\n",
    "text = (\n",
    "    \"\"\"Generated Story:\n",
    "A picture shows car. This image shows a small car in front of a man with a shotgun. \n",
    "The picture does not show the car but more of a truck behind it. The truck is still in the same position as the car.\n",
    "\n",
    "This picture is a clear illustration of the destruction of a car as it leaves the street. \n",
    "Notice that it takes the same car's place as the car as well.\n",
    "\n",
    "The picture show how the cars that were in the street, while left alone in that state, \n",
    "would immediately move through the streets as soon as the cars in front of them moved. \n",
    "Thus far there are few examples of that behavior yet we can have a closer look at the destruction caused by leaving the streets alone.\n",
    "\n",
    "The damage\"\"\"\n",
    ")\n",
    "\n",
    "# Run summarization\n",
    "summary = summarizer(text, max_length=30, min_length=10, do_sample=False)\n",
    "\n",
    "# Print result\n",
    "print(\"Summary:\", summary[0]['summary_text'])\n"
   ]
  },
  {
   "cell_type": "code",
   "execution_count": null,
   "id": "b7a9bebd-9320-4777-b7b5-0d1d31982b1d",
   "metadata": {},
   "outputs": [],
   "source": []
  }
 ],
 "metadata": {
  "kernelspec": {
   "display_name": "Python 3 (ipykernel)",
   "language": "python",
   "name": "python3"
  },
  "language_info": {
   "codemirror_mode": {
    "name": "ipython",
    "version": 3
   },
   "file_extension": ".py",
   "mimetype": "text/x-python",
   "name": "python",
   "nbconvert_exporter": "python",
   "pygments_lexer": "ipython3",
   "version": "3.11.4"
  }
 },
 "nbformat": 4,
 "nbformat_minor": 5
}
