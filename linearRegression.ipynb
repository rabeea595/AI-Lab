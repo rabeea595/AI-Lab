{
 "cells": [
  {
   "cell_type": "code",
   "execution_count": 10,
   "id": "00dc25c1-3775-4c78-93c4-9d5df92e96fd",
   "metadata": {},
   "outputs": [
    {
     "name": "stdout",
     "output_type": "stream",
     "text": [
      "prediction for 10 years: 92500.0\n",
      "[2500.]\n",
      "67500.0\n"
     ]
    }
   ],
   "source": [
    "from sklearn.linear_model import LinearRegression\n",
    "import numpy as np\n",
    "exp=np.array([[1],[3],[5],[7],[9]])\n",
    "salary = np.array([70000,75000,80000,85000,90000])\n",
    "\n",
    "model=LinearRegression().fit(exp,salary)\n",
    "prediction=model.predict([[10]])\n",
    "print(\"prediction for 10 years:\",prediction[0])\n",
    "print(model.coef_)\n",
    "print(model.intercept_)"
   ]
  },
  {
   "cell_type": "code",
   "execution_count": 15,
   "id": "adcf62ac-9796-44d9-8b94-bbcf13a055a0",
   "metadata": {},
   "outputs": [
    {
     "name": "stdout",
     "output_type": "stream",
     "text": [
      "intercept(bias)): [80000. 80000. 80000. 80000. 80000.]\n",
      "slope(slope)): [-0. -0.  0.  0.  0.]\n"
     ]
    }
   ],
   "source": [
    "from sklearn.linear_model import LinearRegression\n",
    "import numpy as np\n",
    "exp=np.array([[1],[3],[5],[7],[9]])\n",
    "salary = np.array([70000,75000,80000,85000,90000])\n",
    "mean_X=np.mean(exp)\n",
    "mean_Y=np.mean(salary)\n",
    "numerator = np.sum((exp-mean_X))*(salary-mean_Y)\n",
    "denominator = np.sum((exp-mean_X)**2)\n",
    "m = numerator / denominator\n",
    "b = mean_Y - m * mean_X\n",
    "print(\"intercept(bias)):\", b)\n",
    "print(\"slope(slope)):\", m)\n"
   ]
  },
  {
   "cell_type": "code",
   "execution_count": null,
   "id": "25b14d25-1394-42c8-9868-78fb477fd68f",
   "metadata": {},
   "outputs": [],
   "source": []
  },
  {
   "cell_type": "code",
   "execution_count": 4,
   "id": "05679cc5-3d19-451a-adaa-e4260f928ecd",
   "metadata": {},
   "outputs": [
    {
     "name": "stdout",
     "output_type": "stream",
     "text": [
      "Predicted salary: 68902.43902439026\n"
     ]
    }
   ],
   "source": [
    "# multifeature regression\n",
    "from sklearn.linear_model import LinearRegression\n",
    "import numpy as np\n",
    "features = np.array([\n",
    "    [4, 26, 16, 1],\n",
    "    [5, 28, 14, 1],\n",
    "    [6, 30, 16, 1],\n",
    "    [8, 25, 18, 1],\n",
    "    [10, 32, 20, 1]\n",
    "])\n",
    "salary = np.array([70000, 75000, 80000, 85000, 90000])\n",
    "model = LinearRegression().fit(features, salary)\n",
    "new_input = np.array([[4, 32, 18, 1]])\n",
    "prediction = model.predict(new_input)\n",
    "print(\"Predicted salary:\", prediction[0])\n"
   ]
  },
  {
   "cell_type": "code",
   "execution_count": null,
   "id": "b1469bf9-6c76-4092-b1d0-edfafabfbbde",
   "metadata": {},
   "outputs": [],
   "source": []
  }
 ],
 "metadata": {
  "kernelspec": {
   "display_name": "Python 3 (ipykernel)",
   "language": "python",
   "name": "python3"
  },
  "language_info": {
   "codemirror_mode": {
    "name": "ipython",
    "version": 3
   },
   "file_extension": ".py",
   "mimetype": "text/x-python",
   "name": "python",
   "nbconvert_exporter": "python",
   "pygments_lexer": "ipython3",
   "version": "3.11.4"
  }
 },
 "nbformat": 4,
 "nbformat_minor": 5
}
