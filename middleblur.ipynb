{
 "cells": [
  {
   "cell_type": "code",
   "execution_count": null,
   "id": "ac26f646-d38d-4644-811d-1daf45085974",
   "metadata": {},
   "outputs": [],
   "source": [
    "#gaussian blur\n",
    "import cv2\n",
    "image = cv2.imread('oo.jpEg')\n",
    "if image is None:\n",
    "    print(\"Error: Image not found. Check file path and extension.\")\n",
    "else:\n",
    "    kernel_size = (9, 9)\n",
    "    blurred_image = cv2.GaussianBlur(image, kernel_size, 0)\n",
    "    cv2.imshow('Original Image', image)\n",
    "    cv2.imshow('Blurred Image', blurred_image)\n",
    "    cv2.waitKey(0)\n",
    "    cv2.destroyAllWindows()\n"
   ]
  },
  {
   "cell_type": "code",
   "execution_count": null,
   "id": "9896baa3-8b73-4230-8a16-80fd2adc71f8",
   "metadata": {},
   "outputs": [],
   "source": [
    "#median blur\n",
    "import cv2\n",
    "image = cv2.imread('oo.jpEg')\n",
    "if image is None:\n",
    "    print(\"Error: Image not found. Check file path and extension.\")\n",
    "else:\n",
    "    kernel_size = 9\n",
    "    blurred_image = cv2.medianBlur(image, kernel_size, 0)\n",
    "    cv2.imshow('Original Image', image)\n",
    "    cv2.imshow('Blurred Image', blurred_image)\n",
    "    cv2.waitKey(0)\n",
    "    cv2.destroyAllWindows()\n"
   ]
  },
  {
   "cell_type": "code",
   "execution_count": null,
   "id": "74394b9a-6875-496c-bcc1-ee94092d6fa8",
   "metadata": {},
   "outputs": [],
   "source": [
    "#IMAGE THRESHOLD\n",
    "import cv2\n",
    "image = cv2.imread('oo.jpEg')\n",
    "threshold_value = 100\n",
    "max_value = 255\n",
    "if image is None:\n",
    "    print(\"Error: Image not found. Check file path and extension.\")\n",
    "else:\n",
    "     gray_image = cv2.cvtColor(image, cv2.COLOR_BGR2GRAY)\n",
    "    threshold_value = 100\n",
    "max_value = 255\n",
    "    \n",
    "_, Binary_image = threshold(image_value,max_value, cv2.THRESH_BINARY    \n",
    "cv2.imshow('Binary Image', binary_image)\n",
    "cv2.waitKey(0)\n",
    "cv2.destroyAllWindows()\n"
   ]
  },
  {
   "cell_type": "code",
   "execution_count": null,
   "id": "a7d41921-4a10-4dbe-b947-54d382d3f424",
   "metadata": {},
   "outputs": [],
   "source": [
    "import cv2\n",
    "image = cv2.imread('oo.jpEg')\n",
    "if image is None:\n",
    "    print(\"Error: Image not found. Check file path and extension.\")\n",
    "else:\n",
    "    \n",
    "    threshold_value = 100\n",
    "    max_value = 255\n",
    "    _, binary_image = cv2.threshold(gray_image, threshold_value, max_value, cv2.THRESH_BINARY)\n",
    "    cv2.imshow('Grayscale Image', gray_image)\n",
    "    cv2.imshow('Binary Image', binary_image)\n",
    "    cv2.waitKey(0)\n",
    "    cv2.destroyAllWindows()\n"
   ]
  },
  {
   "cell_type": "code",
   "execution_count": null,
   "id": "29d79b59-5891-41b5-b255-4ecd15cc2ce3",
   "metadata": {},
   "outputs": [],
   "source": [
    "import cv2\n",
    "image = cv2.imread('oo.jpEg')\n",
    "threshold_value = 100\n",
    "max_value = 255\n",
    "\n",
    "\n",
    "Cv2.imshow('Binary Image', binary_image)\n",
    "    cv2.waitKey(0)\n",
    "    cv2.destroyAllWindows()\n"
   ]
  },
  {
   "cell_type": "code",
   "execution_count": null,
   "id": "5c35ba92-f573-4fb2-91bd-70cbd30987d3",
   "metadata": {},
   "outputs": [],
   "source": [
    "import cv2\n",
    "image = cv2.imread('oo.jpEg')\n",
    "if image is None:\n",
    "    print(\"Error: Image not found. Check file path and extension.\")\n",
    "else:\n",
    "    gray_image = cvtColor(image,cv2.cv2.COLOR_BGR2GRAY)\n",
    "lower_threshold = 0\n",
    "upper_thrshold = 255\n",
    "edges = cv2.Canny(gray_image, lower_threshold, upper_threshold)\n",
    "cv2.imshow('Original Image', e)\n",
    "cv2.imshow('Edge Image', edges)\n",
    "cv2.waitkey(0)\n",
    "cv2.destroyAllWindows()\n",
    "                  \n",
    "                  \n"
   ]
  },
  {
   "cell_type": "code",
   "execution_count": 1,
   "id": "a723273b-76af-42eb-afb5-6e400fb644ab",
   "metadata": {},
   "outputs": [],
   "source": [
    "import cv2\n",
    "image = cv2.imread('oo.jpEg')\n",
    "if image is None:\n",
    "    print(\"Error: Image not found. Check file path and extension.\")\n",
    "else:\n",
    "    gray_image = cv2.cvtColor(image, cv2.COLOR_BGR2GRAY)\n",
    "    lower_threshold = 200\n",
    "    upper_threshold = 200\n",
    "    edges = cv2.Canny(gray_image, lower_threshold, upper_threshold)\n",
    "    cv2.imshow('Original Image', image)\n",
    "    cv2.imshow('Edge Image', edges)\n",
    "    cv2.waitKey(0)\n",
    "    cv2.destroyAllWindows()\n"
   ]
  },
  {
   "cell_type": "code",
   "execution_count": 2,
   "id": "7cab7480-3f5b-4748-8d48-1c844928b69b",
   "metadata": {},
   "outputs": [
    {
     "name": "stdout",
     "output_type": "stream",
     "text": [
      "Error: Image not found. Check file path and extension.\n"
     ]
    }
   ],
   "source": [
    "import cv2\n",
    "\n",
    "image = cv2.imread('oo.jpg')  \n",
    "\n",
    "if image is None:\n",
    "    print(\"Error: Image not found. Check file path and extension.\")\n",
    "else:\n",
    "    gray_image = cv2.cvtColor(image, cv2.COLOR_BGR2GRAY)\n",
    "\n",
    "    text = \"Hello flower\"\n",
    "    position = (50, 100)\n",
    "    font = cv2.FONT_HERSHEY_SIMPLEX\n",
    "    font_scale = 5\n",
    "    color = (255, 255, 255)\n",
    "    thickness = 2\n",
    "\n",
    "    image_with_text = cv2.putText(image, text, position, font, font_scale, color, thickness)\n",
    "\n",
    "    cv2.imshow('Image with Text', image_with_text)\n",
    "    cv2.waitKey(0)\n",
    "    cv2.destroyAllWindows()\n"
   ]
  },
  {
   "cell_type": "code",
   "execution_count": 12,
   "id": "279b98d2-26e4-496f-be0a-f39a0c5aca90",
   "metadata": {},
   "outputs": [
    {
     "name": "stdout",
     "output_type": "stream",
     "text": [
      "Error: Image not found. Check file path and extension.\n"
     ]
    }
   ],
   "source": [
    "import cv2\n",
    "\n",
    "# Load the image\n",
    "image = cv2.imread('oo.jpg') \n",
    "if image is None:\n",
    "    print(\"Error: Image not found. Check file path and extension.\")\n",
    "else:\n",
    "    gray_image = cv2.cvtColor(image, cv2.COLOR_BGR2GRAY)\n",
    "    text = \"Hello flower\"\n",
    "    position = (50, 100)\n",
    "    font = cv2.FONT_HERSHEY_SIMPLEX\n",
    "    font_scale = 5 \n",
    "    color = (255, 255, 255)\n",
    "    thickness = 2\n",
    "    image_with_text = cv2.putText(image, text, position, font, font_scale, color, thickness)\n",
    "    cv2.imshow('Image with Text', image_with_text)\n",
    "    cv2.waitKey(0)\n",
    "    cv2.destroyAllWindows()"
   ]
  },
  {
   "cell_type": "code",
   "execution_count": 50,
   "id": "526828f5-26f6-43ec-8d71-3d0e610f3ff0",
   "metadata": {},
   "outputs": [],
   "source": [
    "import cv2\n",
    "\n",
    "face_cascade = cv2.CascadeClassifier(cv2.data.haarcascades + 'haarcascade_frontalface_default.xml')\n",
    "\n",
    "image = cv2.imread('girll.jpEg')\n",
    "if image is None:\n",
    "    print(\"Error: Image not found\")\n",
    "else:\n",
    "    gray_image = cv2.cvtColor(image, cv2.COLOR_BGR2GRAY)\n",
    "    faces = face_cascade.detectMultiScale(gray_image, scaleFactor=1.1, minNeighbors=5, minSize=(30, 30))\n",
    "\n",
    "    if len(faces) == 0:\n",
    "        print(\"No faces detected\")\n",
    "    else:\n",
    "        for (x, y, w, h) in faces:\n",
    "            cv2.rectangle(image, (x, y), (x + w, y + h), (0, 255, 0), 2)\n",
    "\n",
    "        cv2.imshow('Detected face', image)\n",
    "        cv2.waitKey(0)\n",
    "        cv2.destroyAllWindows()"
   ]
  },
  {
   "cell_type": "code",
   "execution_count": 48,
   "id": "c10472a5-9fd8-4dc3-b4b7-f2acb3f56449",
   "metadata": {},
   "outputs": [],
   "source": [
    "import cv2\n",
    "\n",
    "face_cascade = cv2.CascadeClassifier(cv2.data.haarcascades + 'haarcascade_eye.xml')\n",
    "\n",
    "image = cv2.imread('n.jpEg')\n",
    "if image is None:\n",
    "    print(\"Error: Image not found\")\n",
    "else:\n",
    "    gray_image = cv2.cvtColor(image, cv2.COLOR_BGR2GRAY)\n",
    "    faces = face_cascade.detectMultiScale(gray_image, scaleFactor=1.1, minNeighbors=5, minSize=(30, 30))\n",
    "\n",
    "    if len(faces) == 0:\n",
    "        print(\"No eyes detected\")\n",
    "    else:\n",
    "        for (x, y, w, h) in faces:\n",
    "            cv2.rectangle(image, (x, y), (x + w, y + h), (0, 255, 0), 2)\n",
    "\n",
    "        cv2.imshow('Detected face', image)\n",
    "        cv2.waitKey(0)\n",
    "        cv2.destroyAllWindows()"
   ]
  },
  {
   "cell_type": "code",
   "execution_count": 49,
   "id": "885dbc8a-49ba-412f-9699-520418625fad",
   "metadata": {},
   "outputs": [],
   "source": [
    "import cv2\n",
    "\n",
    "face_cascade = cv2.CascadeClassifier(cv2.data.haarcascades + 'haarcascade_smile.xml')\n",
    "\n",
    "image = cv2.imread('s.jpEg')\n",
    "if image is None:\n",
    "    print(\"Error: Image not found\")\n",
    "else:\n",
    "    gray_image = cv2.cvtColor(image, cv2.COLOR_BGR2GRAY)\n",
    "    faces = face_cascade.detectMultiScale(gray_image, scaleFactor=1.1, minNeighbors=5, minSize=(30, 30))\n",
    "\n",
    "    if len(faces) == 0:\n",
    "        print(\"No eyes detected\")\n",
    "    else:\n",
    "        for (x, y, w, h) in faces:\n",
    "            cv2.rectangle(image, (x, y), (x + w, y + h), (0, 255, 0), 2)\n",
    "\n",
    "        cv2.imshow('Detected face', image)\n",
    "        cv2.waitKey(0)\n",
    "        cv2.destroyAllWindows()"
   ]
  },
  {
   "cell_type": "code",
   "execution_count": 12,
   "id": "1166f35e-fed1-4e5a-9a9e-90fc6a1868cb",
   "metadata": {},
   "outputs": [],
   "source": [
    "import cv2\n",
    "\n",
    "face_cascade = cv2.CascadeClassifier(cv2.data.haarcascades + 'haarcascade_frontalcatface.xml')\n",
    "\n",
    "image = cv2.imread('cat.jpEg')\n",
    "if image is None:\n",
    "    print(\"Error: Image not found\")\n",
    "else:\n",
    "    gray_image = cv2.cvtColor(image, cv2.COLOR_BGR2GRAY)\n",
    "    faces = face_cascade.detectMultiScale(gray_image, scaleFactor=1.1, minNeighbors=5, minSize=(30, 30))\n",
    "\n",
    "    if len(faces) == 0:\n",
    "        print(\"No eyes detected\")\n",
    "    else:\n",
    "        for (x, y, w, h) in faces:\n",
    "            cv2.rectangle(image, (x, y), (x + w, y + h), (0, 255, 0), 2)\n",
    "\n",
    "        cv2.imshow('Detected face', image)\n",
    "        cv2.waitKey(0)\n",
    "        cv2.destroyAllWindows()"
   ]
  },
  {
   "cell_type": "code",
   "execution_count": null,
   "id": "f72b095b-e904-4fb4-bb67-e4d1315e2f7f",
   "metadata": {},
   "outputs": [],
   "source": [
    "import cv2\n",
    "\n",
    "face_cascade = cv2.CascadeClassifier(cv2.data.haarcascades + 'haarcascade_licence_plate_rus_16stages.xml')\n",
    "\n",
    "image = cv2.imread('car.jpEg')\n",
    "if image is None:\n",
    "    print(\"Error: Image not found\")\n",
    "else:\n",
    "    gray_image = cv2.cvtColor(image, cv2.COLOR_BGR2GRAY)\n",
    "    faces = face_cascade.detectMultiScale(gray_image, scaleFactor=1.1, minNeighbors=5, minSize=(30, 30))\n",
    "\n",
    "    if len(faces) == 0:\n",
    "        print(\"No eyes detected\")\n",
    "    else:\n",
    "        for (x, y, w, h) in faces:\n",
    "            cv2.rectangle(image, (x, y), (x + w, y + h), (0, 255, 0), 2)\n",
    "\n",
    "        cv2.imshow('Detected face', image)\n",
    "        cv2.waitKey(0)\n",
    "        cv2.destroyAllWindows()"
   ]
  },
  {
   "cell_type": "code",
   "execution_count": 8,
   "id": "af97d8a8-7ca0-4bdc-8a91-5e72b2872097",
   "metadata": {},
   "outputs": [
    {
     "name": "stdout",
     "output_type": "stream",
     "text": [
      "No license plates detected\n"
     ]
    }
   ],
   "source": [
    "import cv2\n",
    "\n",
    "plate_cascade = cv2.CascadeClassifier(cv2.data.haarcascades + 'haarcascade_russian_plate_number.xml')\n",
    "\n",
    "image = cv2.imread('car.jpEg')  \n",
    "if image is None:\n",
    "    print(\"Error: Image not found. Check the file path and name.\")\n",
    "else:\n",
    "    gray_image = cv2.cvtColor(image, cv2.COLOR_BGR2GRAY)\n",
    "    plates = plate_cascade.detectMultiScale(gray_image, scaleFactor=1.1, minNeighbors=5, minSize=(30, 30))\n",
    "\n",
    "    if len(plates) == 0:\n",
    "        print(\"No license plates detected\")\n",
    "    else:\n",
    "        for (x, y, w, h) in plates:\n",
    "            cv2.rectangle(image, (x, y), (x + w, y + h), (0, 255, 0), 2)\n",
    "        cv2.imshow('Detected License Plate', image)\n",
    "        cv2.waitKey(0)\n",
    "        cv2.destroyAllWindows()\n"
   ]
  },
  {
   "cell_type": "code",
   "execution_count": 9,
   "id": "c93f95c8-9443-44a2-a186-0befe9edc144",
   "metadata": {},
   "outputs": [
    {
     "name": "stdout",
     "output_type": "stream",
     "text": [
      "Image loaded successfully. Shape: (202, 250, 3)\n",
      "No license plates detected\n"
     ]
    }
   ],
   "source": [
    "import cv2\n",
    "\n",
    "plate_cascade = cv2.CascadeClassifier(cv2.data.haarcascades + 'haarcascade_russian_plate_number.xml')\n",
    "\n",
    "if plate_cascade.empty():\n",
    "    print(\"Error: Haar Cascade XML file not found or could not be loaded.\")\n",
    "else:\n",
    "    image = cv2.imread('car.jpEg') \n",
    "\n",
    "    if image is None:\n",
    "        print(\"Error: Image not found. Check the file path and name.\")\n",
    "    else:\n",
    "        print(f\"Image loaded successfully. Shape: {image.shape}\")\n",
    "\n",
    "        gray_image = cv2.cvtColor(image, cv2.COLOR_BGR2GRAY)\n",
    "\n",
    "        plates = plate_cascade.detectMultiScale(gray_image, scaleFactor=1.1, minNeighbors=3, minSize=(50, 50))\n",
    "\n",
    "        if len(plates) == 0:\n",
    "            print(\"No license plates detected\")\n",
    "        else:\n",
    "            for (x, y, w, h) in plates:\n",
    "                cv2.rectangle(image, (x, y), (x + w, y + h), (0, 255, 0), 2)\n",
    "\n",
    "            cv2.imshow('Detected License Plate', image)\n",
    "            cv2.waitKey(0)\n",
    "            cv2.destroyAllWindows()\n"
   ]
  },
  {
   "cell_type": "code",
   "execution_count": 11,
   "id": "9158d2e1-e3c1-42bd-ada3-d533bca3caa6",
   "metadata": {},
   "outputs": [
    {
     "name": "stdout",
     "output_type": "stream",
     "text": [
      "Image loaded successfully. Shape: (202, 250, 3)\n",
      "Detected 0 license plate(s). Coordinates: ()\n",
      "No license plates detected.\n"
     ]
    }
   ],
   "source": [
    "import cv2\n",
    "\n",
    "plate_cascade = cv2.CascadeClassifier(cv2.data.haarcascades + 'haarcascade_russian_plate_number.xml')\n",
    "\n",
    "image = cv2.imread('car.jpEg')  # Ensure correct filename\n",
    "\n",
    "if image is None:\n",
    "    print(\"Error: Image not found. Check the file path and name.\")\n",
    "else:\n",
    "    print(f\"Image loaded successfully. Shape: {image.shape}\")\n",
    "\n",
    "    gray_image = cv2.cvtColor(image, cv2.COLOR_BGR2GRAY)\n",
    "\n",
    "    if image.shape[0] < 300 or image.shape[1] < 300:\n",
    "        gray_image = cv2.resize(gray_image, (500, 500))\n",
    "\n",
    "    plates = plate_cascade.detectMultiScale(gray_image, scaleFactor=1.05, minNeighbors=2, minSize=(30, 30))\n",
    "\n",
    "    print(f\"Detected {len(plates)} license plate(s). Coordinates: {plates}\")\n",
    "    if len(plates) > 0:\n",
    "        for (x, y, w, h) in plates:\n",
    "            cv2.rectangle(image, (x, y), (x + w, y + h), (0, 255, 0), 2)\n",
    "\n",
    "        cv2.imshow('Detected License Plate', image)\n",
    "        cv2.waitKey(0)\n",
    "        cv2.destroyAllWindows()\n",
    "    else:\n",
    "        print(\"No license plates detected.\")\n"
   ]
  },
  {
   "cell_type": "code",
   "execution_count": 2,
   "id": "052aa0d0-03c0-4fc4-b5cd-fa51aead62df",
   "metadata": {},
   "outputs": [
    {
     "name": "stdout",
     "output_type": "stream",
     "text": [
      "No cars detected\n"
     ]
    }
   ],
   "source": [
    "import cv2\n",
    "\n",
    "car_cascade = cv2.CascadeClassifier('haarcascade_car.xml')\n",
    "\n",
    "\n",
    "image = cv2.imread('images.jpEg')  \n",
    "if image is None:\n",
    "    print(\"Error: Image not found\")\n",
    "else:\n",
    "    gray_image = cv2.cvtColor(image, cv2.COLOR_BGR2GRAY)\n",
    "    cars = car_cascade.detectMultiScale(gray_image, scaleFactor=1.1, minNeighbors=5, minSize=(40, 40))\n",
    "    \n",
    "    if len(cars) == 0:\n",
    "        print(\"No cars detected\")\n",
    "    else:\n",
    "        for (x, y, w, h) in cars:\n",
    "            cv2.rectangle(image, (x, y), (x + w, y + h), (255, 0, 0), 2)\n",
    "\n",
    "        cv2.imshow('Detected Cars', image)\n",
    "        cv2.waitKey(0)\n",
    "        cv2.destroyAllWindows()\n"
   ]
  },
  {
   "cell_type": "code",
   "execution_count": null,
   "id": "b556ad4c-8f8a-41ce-ae10-40a7fd303ac0",
   "metadata": {},
   "outputs": [],
   "source": []
  }
 ],
 "metadata": {
  "kernelspec": {
   "display_name": "Python 3 (ipykernel)",
   "language": "python",
   "name": "python3"
  },
  "language_info": {
   "codemirror_mode": {
    "name": "ipython",
    "version": 3
   },
   "file_extension": ".py",
   "mimetype": "text/x-python",
   "name": "python",
   "nbconvert_exporter": "python",
   "pygments_lexer": "ipython3",
   "version": "3.11.4"
  }
 },
 "nbformat": 4,
 "nbformat_minor": 5
}
